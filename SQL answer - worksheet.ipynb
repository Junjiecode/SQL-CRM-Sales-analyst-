{
 "cells": [
  {
   "cell_type": "markdown",
   "id": "68202dc8",
   "metadata": {},
   "source": [
    "To check this worksheet on Big query (click on below link):\n",
    "\n",
    "https://console.cloud.google.com/bigquery?sq=704847300197:813fa6fcbf81419381b96ec5003398c7"
   ]
  },
  {
   "cell_type": "markdown",
   "id": "bc4a6b39",
   "metadata": {},
   "source": [
    "# I. Paramétiser l'environnement SQL"
   ]
  },
  {
   "cell_type": "code",
   "execution_count": 3,
   "id": "fd867732",
   "metadata": {},
   "outputs": [],
   "source": [
    "!pip install ipython-sql\n",
    "\n",
    "!pip install --upgrade sqlalchemy ipython-sql"
   ]
  },
  {
   "cell_type": "code",
   "execution_count": 43,
   "id": "d79fbec7",
   "metadata": {},
   "outputs": [],
   "source": [
    "# import libraries \n",
    "\n",
    "import pandas as pd \n",
    "import sqlite3"
   ]
  },
  {
   "cell_type": "code",
   "execution_count": 44,
   "id": "20549747",
   "metadata": {},
   "outputs": [],
   "source": [
    "# Import the data \n",
    "\n",
    "df = pd.read_csv(\"VENTES.csv\", sep = \";\")\n",
    "\n",
    "df1 = pd.read_csv(\"CLIENTS.csv\", sep = \";\")\n",
    "\n",
    "df2 = pd.read_csv(\"PRODUITS.csv\", sep = \";\")"
   ]
  },
  {
   "cell_type": "code",
   "execution_count": 45,
   "id": "1c8d8e8e",
   "metadata": {},
   "outputs": [],
   "source": [
    "# Create a database connection: jupyter_sql, by using sqlite3 library \n",
    "cnn = sqlite3.connect('jupyter_sql.db')"
   ]
  },
  {
   "cell_type": "code",
   "execution_count": null,
   "id": "5b902e3a",
   "metadata": {},
   "outputs": [],
   "source": [
    "# Create the Sales table connection\n",
    "df.to_sql('sales', cnn)"
   ]
  },
  {
   "cell_type": "code",
   "execution_count": null,
   "id": "ba5a3ab7",
   "metadata": {},
   "outputs": [],
   "source": [
    "# Create the Clients table connection\n",
    "df1.to_sql('clients', cnn)"
   ]
  },
  {
   "cell_type": "code",
   "execution_count": 28,
   "id": "ede2b9ac",
   "metadata": {},
   "outputs": [
    {
     "data": {
      "text/plain": [
       "58791"
      ]
     },
     "execution_count": 28,
     "metadata": {},
     "output_type": "execute_result"
    }
   ],
   "source": [
    "# Create the Produits table connection\n",
    "df2.to_sql('produits', cnn)"
   ]
  },
  {
   "cell_type": "code",
   "execution_count": 1,
   "id": "a46b94b9",
   "metadata": {
    "scrolled": true
   },
   "outputs": [],
   "source": [
    "# Load the sql module to iPython\n",
    "\n",
    "%load_ext sql"
   ]
  },
  {
   "cell_type": "code",
   "execution_count": 2,
   "id": "e6a36ec9",
   "metadata": {
    "scrolled": true
   },
   "outputs": [],
   "source": [
    "# Using the jupyter_sql connection \n",
    "%sql sqlite:///jupyter_sql.db"
   ]
  },
  {
   "cell_type": "markdown",
   "id": "3f43e4f0",
   "metadata": {},
   "source": [
    "# II. Commencer les exercises"
   ]
  },
  {
   "cell_type": "markdown",
   "id": "e1e46c21",
   "metadata": {},
   "source": [
    "Paramétiser les tables : \n",
    "- les clients français uniquement (variable NATIONALITE_CLIENT dans la table CLIENTS)\n",
    "- les achats uniquement s’ils ont été réalisés en France, Belgique, Espagne, Pologne ou Suisse (variable PAYS_ACHAT dans la table VENTES)"
   ]
  },
  {
   "cell_type": "code",
   "execution_count": 3,
   "id": "56233810",
   "metadata": {},
   "outputs": [
    {
     "name": "stdout",
     "output_type": "stream",
     "text": [
      " * sqlite:///jupyter_sql.db\n",
      "Done.\n"
     ]
    },
    {
     "data": {
      "text/html": [
       "<table>\n",
       "    <thead>\n",
       "        <tr>\n",
       "            <th>NATIONALITE_CLIENT</th>\n",
       "        </tr>\n",
       "    </thead>\n",
       "    <tbody>\n",
       "        <tr>\n",
       "            <td>FR</td>\n",
       "        </tr>\n",
       "    </tbody>\n",
       "</table>"
      ],
      "text/plain": [
       "[('FR',)]"
      ]
     },
     "execution_count": 3,
     "metadata": {},
     "output_type": "execute_result"
    }
   ],
   "source": [
    "%%sql \n",
    "\n",
    "SELECT\n",
    "  DISTINCT NATIONALITE_CLIENT\n",
    "FROM\n",
    "  clients;\n"
   ]
  },
  {
   "cell_type": "code",
   "execution_count": 39,
   "id": "9a3152ed",
   "metadata": {},
   "outputs": [
    {
     "name": "stdout",
     "output_type": "stream",
     "text": [
      " * sqlite:///jupyter_sql.db\n",
      "156 rows affected.\n"
     ]
    },
    {
     "data": {
      "text/plain": [
       "[]"
      ]
     },
     "execution_count": 39,
     "metadata": {},
     "output_type": "execute_result"
    }
   ],
   "source": [
    "# Client the client table, make it only contains french clients\n",
    "%%sql \n",
    "DELETE FROM clients \n",
    "WHERE NATIONALITE_CLIENT != 'FR'"
   ]
  },
  {
   "cell_type": "code",
   "execution_count": 50,
   "id": "4c655e83",
   "metadata": {},
   "outputs": [
    {
     "name": "stdout",
     "output_type": "stream",
     "text": [
      " * sqlite:///jupyter_sql.db\n",
      "Done.\n"
     ]
    },
    {
     "data": {
      "text/html": [
       "<table>\n",
       "    <thead>\n",
       "        <tr>\n",
       "            <th>PAYS_ACHAT</th>\n",
       "        </tr>\n",
       "    </thead>\n",
       "    <tbody>\n",
       "        <tr>\n",
       "            <td>FR</td>\n",
       "        </tr>\n",
       "    </tbody>\n",
       "</table>"
      ],
      "text/plain": [
       "[('FR',)]"
      ]
     },
     "execution_count": 50,
     "metadata": {},
     "output_type": "execute_result"
    }
   ],
   "source": [
    "%%sql \n",
    "\n",
    "SELECT\n",
    "  DISTINCT PAYS_ACHAT\n",
    "FROM\n",
    "  sales;"
   ]
  },
  {
   "cell_type": "markdown",
   "id": "ff99fe52",
   "metadata": {},
   "source": [
    "## 1. Quel est le chiffre d’affaires mensuel des magasins n° 2179 et 2536 ?\n",
    "(variable PLANT dans la table VENTES = ID magasin)"
   ]
  },
  {
   "cell_type": "code",
   "execution_count": 57,
   "id": "5d7097ce",
   "metadata": {},
   "outputs": [
    {
     "name": "stdout",
     "output_type": "stream",
     "text": [
      " * sqlite:///jupyter_sql.db\n",
      "Done.\n"
     ]
    },
    {
     "data": {
      "text/html": [
       "<table>\n",
       "    <thead>\n",
       "        <tr>\n",
       "            <th>Mois</th>\n",
       "            <th>CA_Mensuel</th>\n",
       "        </tr>\n",
       "    </thead>\n",
       "    <tbody>\n",
       "        <tr>\n",
       "            <td>01</td>\n",
       "            <td>4446.49</td>\n",
       "        </tr>\n",
       "        <tr>\n",
       "            <td>02</td>\n",
       "            <td>2518.22</td>\n",
       "        </tr>\n",
       "        <tr>\n",
       "            <td>03</td>\n",
       "            <td>3218.19</td>\n",
       "        </tr>\n",
       "        <tr>\n",
       "            <td>04</td>\n",
       "            <td>2025.35</td>\n",
       "        </tr>\n",
       "        <tr>\n",
       "            <td>05</td>\n",
       "            <td>4227.65</td>\n",
       "        </tr>\n",
       "        <tr>\n",
       "            <td>06</td>\n",
       "            <td>4330.25</td>\n",
       "        </tr>\n",
       "        <tr>\n",
       "            <td>07</td>\n",
       "            <td>4689.26</td>\n",
       "        </tr>\n",
       "        <tr>\n",
       "            <td>08</td>\n",
       "            <td>4719.44</td>\n",
       "        </tr>\n",
       "        <tr>\n",
       "            <td>09</td>\n",
       "            <td>4897.36</td>\n",
       "        </tr>\n",
       "        <tr>\n",
       "            <td>10</td>\n",
       "            <td>4414.38</td>\n",
       "        </tr>\n",
       "        <tr>\n",
       "            <td>11</td>\n",
       "            <td>4044.7</td>\n",
       "        </tr>\n",
       "        <tr>\n",
       "            <td>12</td>\n",
       "            <td>5025.2</td>\n",
       "        </tr>\n",
       "    </tbody>\n",
       "</table>"
      ],
      "text/plain": [
       "[('01', 4446.49),\n",
       " ('02', 2518.22),\n",
       " ('03', 3218.19),\n",
       " ('04', 2025.35),\n",
       " ('05', 4227.65),\n",
       " ('06', 4330.25),\n",
       " ('07', 4689.26),\n",
       " ('08', 4719.44),\n",
       " ('09', 4897.36),\n",
       " ('10', 4414.38),\n",
       " ('11', 4044.7),\n",
       " ('12', 5025.2)]"
      ]
     },
     "execution_count": 57,
     "metadata": {},
     "output_type": "execute_result"
    }
   ],
   "source": [
    "%%sql \n",
    "\n",
    "SELECT\n",
    "    SUBSTRING(DATE_ACHAT, 6, 2) AS Mois, \n",
    "    ROUND(SUM(CATTC), 2) AS CA_Mensuel\n",
    "FROM\n",
    "    sales\n",
    "WHERE \n",
    "    PLANT IN (2197, 2536)\n",
    "GROUP BY \n",
    "    1\n",
    "ORDER BY 1 ASC"
   ]
  },
  {
   "cell_type": "markdown",
   "id": "0b437f62",
   "metadata": {},
   "source": [
    "## 2. Quel est l'âge moyen des clients ayant acheté du NIGHTWEAR en janvier 2023 ? Celui de ceux n’en ayant pas acheté sur la même période ? (variable SEGMENT dans table PRODUITS)"
   ]
  },
  {
   "cell_type": "code",
   "execution_count": 63,
   "id": "d7f1325d",
   "metadata": {
    "scrolled": true
   },
   "outputs": [
    {
     "name": "stdout",
     "output_type": "stream",
     "text": [
      " * sqlite:///jupyter_sql.db\n",
      "Done.\n"
     ]
    },
    {
     "data": {
      "text/html": [
       "<table>\n",
       "    <thead>\n",
       "        <tr>\n",
       "            <th>Nightwear_flag</th>\n",
       "            <th>Avg_age</th>\n",
       "        </tr>\n",
       "    </thead>\n",
       "    <tbody>\n",
       "        <tr>\n",
       "            <td>NIGHTWEAR</td>\n",
       "            <td>33.52</td>\n",
       "        </tr>\n",
       "        <tr>\n",
       "            <td>Others</td>\n",
       "            <td>31.67</td>\n",
       "        </tr>\n",
       "    </tbody>\n",
       "</table>"
      ],
      "text/plain": [
       "[('NIGHTWEAR', 33.52), ('Others', 31.67)]"
      ]
     },
     "execution_count": 63,
     "metadata": {},
     "output_type": "execute_result"
    }
   ],
   "source": [
    "%%sql\n",
    "SELECT \n",
    "    CASE WHEN p.SEGMENT = 'NIGHTWEAR' THEN p.SEGMENT ELSE 'Others' END AS Nightwear_flag, \n",
    "    ROUND(AVG((julianday(DATE_ACHAT) - julianday(DATE_DE_NAISSANCE)) / 365.25), 2) AS Avg_age\n",
    "FROM \n",
    "    sales s\n",
    "LEFT JOIN \n",
    "    clients c\n",
    "ON \n",
    "    s.RCUCRM = c.RCUCRM \n",
    "LEFT JOIN \n",
    "    produits p \n",
    "ON \n",
    "    p.MCVT = s.MCVT \n",
    "WHERE \n",
    "    strftime('%Y-%m', DATE_ACHAT) = '2023-01'\n",
    "GROUP BY \n",
    "    Nightwear_flag;"
   ]
  },
  {
   "cell_type": "markdown",
   "id": "a61b87d4",
   "metadata": {},
   "source": [
    "## 3. Quel est le taux de churn des clients ayant acheté en 2021 ET 2022 ?\n",
    "(On définit ici le churn comme suit : achat en 2021 ET 2022 mais aucun achat en 2023)"
   ]
  },
  {
   "cell_type": "code",
   "execution_count": 29,
   "id": "fdf86ed1",
   "metadata": {},
   "outputs": [
    {
     "name": "stdout",
     "output_type": "stream",
     "text": [
      " * sqlite:///jupyter_sql.db\n",
      "Done.\n"
     ]
    },
    {
     "data": {
      "text/html": [
       "<table>\n",
       "    <thead>\n",
       "        <tr>\n",
       "            <th>taux_de_churn</th>\n",
       "        </tr>\n",
       "    </thead>\n",
       "    <tbody>\n",
       "        <tr>\n",
       "            <td>0.43</td>\n",
       "        </tr>\n",
       "    </tbody>\n",
       "</table>"
      ],
      "text/plain": [
       "[(0.43,)]"
      ]
     },
     "execution_count": 29,
     "metadata": {},
     "output_type": "execute_result"
    }
   ],
   "source": [
    "%%sql \n",
    "\n",
    "WITH client_2021 AS \n",
    "  (SELECT \n",
    "    DISTINCT RCUCRM\n",
    "  FROM \n",
    "    sales\n",
    "  WHERE substr(DATE_ACHAT, 1, 4) = '2021'),\n",
    "\n",
    "    \n",
    "client_2022 AS \n",
    "  (SELECT \n",
    "    DISTINCT RCUCRM\n",
    "  FROM \n",
    "    sales\n",
    "  WHERE substr(DATE_ACHAT, 1, 4) = '2022'),\n",
    "    \n",
    "\n",
    "client_2021_2022 AS \n",
    "  (SELECT \n",
    "    a.*\n",
    "  FROM \n",
    "    client_2021 a\n",
    "  INNER JOIN \n",
    "    client_2022 b\n",
    "  ON \n",
    "    a.RCUCRM = b.RCUCRM\n",
    "  ), \n",
    "    \n",
    "client_chrun AS \n",
    "  (SELECT \n",
    "    RCUCRM \n",
    "  FROM \n",
    "    client_2021_2022\n",
    "  WHERE \n",
    "    RCUCRM NOT IN (SELECT DISTINCT RCUCRM FROM sales WHERE substr(DATE_ACHAT, 1, 4) = '2023')\n",
    "  )\n",
    "\n",
    "SELECT\n",
    "    ROUND\n",
    "    (\n",
    "        CAST((SELECT COUNT(*) FROM client_chrun) AS FLOAT) /\n",
    "    CAST((SELECT COUNT(*) FROM client_2021_2022) AS FLOAT)\n",
    "        , 2) AS taux_de_churn\n",
    "    \n",
    "    \n"
   ]
  },
  {
   "cell_type": "markdown",
   "id": "45bd45f0",
   "metadata": {},
   "source": [
    "## 4. Quelle est la fréquence d'achat 2023 des clients qui étaient omnicanaux en 2023 ? Comment se découpe cette fréquence entre le MAG et le WEB ?"
   ]
  },
  {
   "cell_type": "code",
   "execution_count": 35,
   "id": "120b607f",
   "metadata": {},
   "outputs": [
    {
     "name": "stdout",
     "output_type": "stream",
     "text": [
      " * sqlite:///jupyter_sql.db\n",
      "Done.\n"
     ]
    },
    {
     "data": {
      "text/html": [
       "<table>\n",
       "    <thead>\n",
       "        <tr>\n",
       "            <th>CANAL</th>\n",
       "            <th>frequence_achat</th>\n",
       "        </tr>\n",
       "    </thead>\n",
       "    <tbody>\n",
       "        <tr>\n",
       "            <td>MAG</td>\n",
       "            <td>8.01</td>\n",
       "        </tr>\n",
       "        <tr>\n",
       "            <td>WEB</td>\n",
       "            <td>6.5</td>\n",
       "        </tr>\n",
       "    </tbody>\n",
       "</table>"
      ],
      "text/plain": [
       "[('MAG', 8.01), ('WEB', 6.5)]"
      ]
     },
     "execution_count": 35,
     "metadata": {},
     "output_type": "execute_result"
    }
   ],
   "source": [
    "%%sql\n",
    "\n",
    "WITH client_mag AS \n",
    "(\n",
    "  SELECT \n",
    "    DISTINCT RCUCRM\n",
    "  FROM \n",
    "    sales\n",
    "  WHERE \n",
    "    substr(DATE_ACHAT, 1, 4) = '2023'\n",
    "  AND \n",
    "    CANAL = 'MAG'\n",
    "),\n",
    "\n",
    "\n",
    "client_web AS \n",
    "(\n",
    "  SELECT \n",
    "    DISTINCT RCUCRM\n",
    "  FROM \n",
    "    sales\n",
    "  WHERE \n",
    "    substr(DATE_ACHAT, 1, 4) = '2023'\n",
    "  AND \n",
    "    CANAL = 'WEB'\n",
    "),\n",
    "\n",
    "\n",
    "client_omni AS \n",
    "(\n",
    "  SELECT \n",
    "    a.*\n",
    "  FROM \n",
    "    client_mag a\n",
    "  INNER JOIN \n",
    "    client_web b\n",
    "  ON \n",
    "    a.RCUCRM = b.RCUCRM\n",
    ")\n",
    "\n",
    "\n",
    "SELECT \n",
    "  a.CANAL, \n",
    "  ROUND(CAST(COUNT(*) AS FLOAT) / CAST(COUNT(DISTINCT a.RCUCRM) AS FLOAT), 2) AS frequence_achat\n",
    "FROM \n",
    "  sales a \n",
    "INNER JOIN \n",
    "  client_omni b \n",
    "ON \n",
    "  a.RCUCRM = b.RCUCRM\n",
    "WHERE \n",
    "  substr(DATE_ACHAT, 1, 4) = '2023'\n",
    "GROUP BY\n",
    "  a.CANAL;"
   ]
  },
  {
   "cell_type": "markdown",
   "id": "3b21d3f1",
   "metadata": {},
   "source": [
    "## 5. Quels sont les IC des clients de 2023 selon leur tranche d'âge ?\n",
    "Définition des IC (indicateurs commerciaux) :\n",
    "\n",
    "• Panier moyen = somme CA / total achats uniques\n",
    "\n",
    "• Fréquence d’achat = total achats uniques / total clients uniques\n",
    "\n",
    "• CA moyen = somme CA / total clients uniques\n",
    "\n",
    "• Nombre d’articles moyen au panier = total articles / total achats uniques\n",
    "\n",
    "Vous êtes libre de définir les tranches d’âge qui vous semble les plus cohérentes."
   ]
  },
  {
   "cell_type": "code",
   "execution_count": 45,
   "id": "8dbb67c2",
   "metadata": {},
   "outputs": [
    {
     "name": "stdout",
     "output_type": "stream",
     "text": [
      " * sqlite:///jupyter_sql.db\n",
      "Done.\n"
     ]
    },
    {
     "data": {
      "text/html": [
       "<table>\n",
       "    <thead>\n",
       "        <tr>\n",
       "            <th>RCUCRM</th>\n",
       "            <th>MCVT</th>\n",
       "            <th>SAISON</th>\n",
       "            <th>PLANT</th>\n",
       "            <th>CANAL</th>\n",
       "            <th>NUM_ACHAT</th>\n",
       "            <th>DATE_ACHAT</th>\n",
       "            <th>SEMAINE_ETAM</th>\n",
       "            <th>PAYS_ACHAT</th>\n",
       "            <th>CATTC</th>\n",
       "        </tr>\n",
       "    </thead>\n",
       "    <tbody>\n",
       "        <tr>\n",
       "            <td>33731521.0</td>\n",
       "            <td>652109338004</td>\n",
       "            <td>20210001</td>\n",
       "            <td>2483</td>\n",
       "            <td>MAG</td>\n",
       "            <td>20210605248301402812</td>\n",
       "            <td>2021-06-05</td>\n",
       "            <td>2021022</td>\n",
       "            <td>FR</td>\n",
       "            <td>9.95</td>\n",
       "        </tr>\n",
       "        <tr>\n",
       "            <td>33731521.0</td>\n",
       "            <td>652561267004</td>\n",
       "            <td>20210001</td>\n",
       "            <td>2483</td>\n",
       "            <td>MAG</td>\n",
       "            <td>20210605248301402812</td>\n",
       "            <td>2021-06-05</td>\n",
       "            <td>2021022</td>\n",
       "            <td>FR</td>\n",
       "            <td>9.95</td>\n",
       "        </tr>\n",
       "        <tr>\n",
       "            <td>33731521.0</td>\n",
       "            <td>652379505004</td>\n",
       "            <td>20210001</td>\n",
       "            <td>2483</td>\n",
       "            <td>MAG</td>\n",
       "            <td>20210605248301402812</td>\n",
       "            <td>2021-06-05</td>\n",
       "            <td>2021022</td>\n",
       "            <td>FR</td>\n",
       "            <td>9.95</td>\n",
       "        </tr>\n",
       "        <tr>\n",
       "            <td>33731521.0</td>\n",
       "            <td>652109238004</td>\n",
       "            <td>20210001</td>\n",
       "            <td>2483</td>\n",
       "            <td>MAG</td>\n",
       "            <td>20210605248301402812</td>\n",
       "            <td>2021-06-05</td>\n",
       "            <td>2021022</td>\n",
       "            <td>FR</td>\n",
       "            <td>6.95</td>\n",
       "        </tr>\n",
       "        <tr>\n",
       "            <td>33731521.0</td>\n",
       "            <td>654342121007</td>\n",
       "            <td>20230002</td>\n",
       "            <td>2483</td>\n",
       "            <td>MAG</td>\n",
       "            <td>20231221248302183651</td>\n",
       "            <td>2023-12-21</td>\n",
       "            <td>2023051</td>\n",
       "            <td>FR</td>\n",
       "            <td>19.99</td>\n",
       "        </tr>\n",
       "        <tr>\n",
       "            <td>33731521.0</td>\n",
       "            <td>654331966005</td>\n",
       "            <td>20230002</td>\n",
       "            <td>2483</td>\n",
       "            <td>MAG</td>\n",
       "            <td>20231221248302183652</td>\n",
       "            <td>2023-12-21</td>\n",
       "            <td>2023051</td>\n",
       "            <td>FR</td>\n",
       "            <td>15.99</td>\n",
       "        </tr>\n",
       "    </tbody>\n",
       "</table>"
      ],
      "text/plain": [
       "[(33731521.0, 652109338004, 20210001, 2483, 'MAG', '20210605248301402812', '2021-06-05', 2021022, 'FR', 9.95),\n",
       " (33731521.0, 652561267004, 20210001, 2483, 'MAG', '20210605248301402812', '2021-06-05', 2021022, 'FR', 9.95),\n",
       " (33731521.0, 652379505004, 20210001, 2483, 'MAG', '20210605248301402812', '2021-06-05', 2021022, 'FR', 9.95),\n",
       " (33731521.0, 652109238004, 20210001, 2483, 'MAG', '20210605248301402812', '2021-06-05', 2021022, 'FR', 6.95),\n",
       " (33731521.0, 654342121007, 20230002, 2483, 'MAG', '20231221248302183651', '2023-12-21', 2023051, 'FR', 19.99),\n",
       " (33731521.0, 654331966005, 20230002, 2483, 'MAG', '20231221248302183652', '2023-12-21', 2023051, 'FR', 15.99)]"
      ]
     },
     "execution_count": 45,
     "metadata": {},
     "output_type": "execute_result"
    }
   ],
   "source": [
    "%%sql\n",
    "\n",
    "SELECT * FROM sales LIMIT 6"
   ]
  },
  {
   "cell_type": "code",
   "execution_count": 46,
   "id": "2db9729a",
   "metadata": {},
   "outputs": [
    {
     "name": "stdout",
     "output_type": "stream",
     "text": [
      " * sqlite:///jupyter_sql.db\n",
      "Done.\n"
     ]
    },
    {
     "data": {
      "text/html": [
       "<table>\n",
       "    <thead>\n",
       "        <tr>\n",
       "            <th>tranche_age</th>\n",
       "            <th>age_flag</th>\n",
       "            <th>Panier_moyen</th>\n",
       "            <th>Frequence_achat</th>\n",
       "            <th>CA_moyen</th>\n",
       "            <th>Nbr_article_moyen_au_panier</th>\n",
       "        </tr>\n",
       "    </thead>\n",
       "    <tbody>\n",
       "        <tr>\n",
       "            <td>Enfance</td>\n",
       "            <td>1</td>\n",
       "            <td>28.73</td>\n",
       "            <td>1.88</td>\n",
       "            <td>53.94</td>\n",
       "            <td>1.26</td>\n",
       "        </tr>\n",
       "        <tr>\n",
       "            <td>Jeunesse</td>\n",
       "            <td>2</td>\n",
       "            <td>34.22</td>\n",
       "            <td>3.21</td>\n",
       "            <td>110.01</td>\n",
       "            <td>5.65</td>\n",
       "        </tr>\n",
       "        <tr>\n",
       "            <td>Maturité</td>\n",
       "            <td>3</td>\n",
       "            <td>38.3</td>\n",
       "            <td>2.85</td>\n",
       "            <td>109.32</td>\n",
       "            <td>3.44</td>\n",
       "        </tr>\n",
       "        <tr>\n",
       "            <td>Pré-retraite</td>\n",
       "            <td>4</td>\n",
       "            <td>35.17</td>\n",
       "            <td>2.75</td>\n",
       "            <td>96.58</td>\n",
       "            <td>1.99</td>\n",
       "        </tr>\n",
       "        <tr>\n",
       "            <td>Retraite</td>\n",
       "            <td>5</td>\n",
       "            <td>33.47</td>\n",
       "            <td>1.61</td>\n",
       "            <td>53.89</td>\n",
       "            <td>3.6</td>\n",
       "        </tr>\n",
       "    </tbody>\n",
       "</table>"
      ],
      "text/plain": [
       "[('Enfance', 1, 28.73, 1.88, 53.94, 1.26),\n",
       " ('Jeunesse', 2, 34.22, 3.21, 110.01, 5.65),\n",
       " ('Maturité', 3, 38.3, 2.85, 109.32, 3.44),\n",
       " ('Pré-retraite', 4, 35.17, 2.75, 96.58, 1.99),\n",
       " ('Retraite', 5, 33.47, 1.61, 53.89, 3.6)]"
      ]
     },
     "execution_count": 46,
     "metadata": {},
     "output_type": "execute_result"
    }
   ],
   "source": [
    "%%sql\n",
    "\n",
    "WITH sales_client AS \n",
    "(\n",
    "SELECT \n",
    "  a.*, \n",
    "  (julianday(a.DATE_ACHAT) - julianday(b.DATE_DE_NAISSANCE)) / 365.25 AS age\n",
    "FROM \n",
    "  sales a\n",
    "LEFT JOIN \n",
    "  clients b\n",
    "ON\n",
    "  a.RCUCRM = b.RCUCRM\n",
    ")\n",
    "\n",
    "SELECT \n",
    "  CASE WHEN age <= 16 THEN 'Enfance' \n",
    "    WHEN age <= 32 THEN 'Jeunesse'\n",
    "    WHEN age <= 49 THEN 'Maturité'\n",
    "    WHEN age <= 64 THEN 'Pré-retraite'\n",
    "    ELSE 'Retraite' END AS tranche_age, \n",
    "  \n",
    "  CASE WHEN age <= 16 THEN 1 \n",
    "    WHEN age <= 32 THEN 2\n",
    "    WHEN age <= 49 THEN 3\n",
    "    WHEN age <= 64 THEN 4\n",
    "    ELSE 5 END AS age_flag,\n",
    "  \n",
    "  ROUND(SUM(CAST(CATTC AS FLOAT)) / CAST(COUNT(DISTINCT NUM_ACHAT) AS FLOAT) , 2) AS Panier_moyen,\n",
    "  ROUND(CAST(COUNT(DISTINCT NUM_ACHAT) AS FLOAT) / CAST(COUNT(DISTINCT RCUCRM) AS FLOAT), 2) AS Frequence_achat,\n",
    "  ROUND(SUM(CAST(CATTC AS FLOAT)) / CAST(COUNT(DISTINCT RCUCRM) AS FLOAT), 2) AS CA_moyen,\n",
    "  ROUND(CAST(COUNT(*) AS FLOAT) / CAST(COUNT(DISTINCT MCVT) AS FLOAT), 2) AS Nbr_article_moyen_au_panier\n",
    "\n",
    "FROM  \n",
    "    sales_client \n",
    "GROUP BY \n",
    "    1, 2\n",
    "ORDER BY age_flag ASC;"
   ]
  },
  {
   "cell_type": "markdown",
   "id": "4f030f25",
   "metadata": {},
   "source": [
    "## 6. En 2023, quels sont les segments les plus fréquemment cross-sellés avec un achat contenant du NIGHTWEAR ?"
   ]
  },
  {
   "cell_type": "code",
   "execution_count": 56,
   "id": "95b42305",
   "metadata": {},
   "outputs": [
    {
     "name": "stdout",
     "output_type": "stream",
     "text": [
      " * sqlite:///jupyter_sql.db\n",
      "Done.\n"
     ]
    },
    {
     "data": {
      "text/html": [
       "<table>\n",
       "    <thead>\n",
       "        <tr>\n",
       "            <th>SEGMENT</th>\n",
       "            <th>cross_selling_segment</th>\n",
       "            <th>frequency</th>\n",
       "        </tr>\n",
       "    </thead>\n",
       "    <tbody>\n",
       "        <tr>\n",
       "            <td>NIGHTWEAR</td>\n",
       "            <td>DAYWEAR</td>\n",
       "            <td>19464</td>\n",
       "        </tr>\n",
       "        <tr>\n",
       "            <td>NIGHTWEAR</td>\n",
       "            <td>MAN</td>\n",
       "            <td>3971</td>\n",
       "        </tr>\n",
       "        <tr>\n",
       "            <td>NIGHTWEAR</td>\n",
       "            <td>BEACH</td>\n",
       "            <td>1988</td>\n",
       "        </tr>\n",
       "        <tr>\n",
       "            <td>NIGHTWEAR</td>\n",
       "            <td>SPORT</td>\n",
       "            <td>337</td>\n",
       "        </tr>\n",
       "    </tbody>\n",
       "</table>"
      ],
      "text/plain": [
       "[('NIGHTWEAR', 'DAYWEAR', 19464),\n",
       " ('NIGHTWEAR', 'MAN', 3971),\n",
       " ('NIGHTWEAR', 'BEACH', 1988),\n",
       " ('NIGHTWEAR', 'SPORT', 337)]"
      ]
     },
     "execution_count": 56,
     "metadata": {},
     "output_type": "execute_result"
    }
   ],
   "source": [
    "%%sql\n",
    "\n",
    "WITH nightwear_order AS    \n",
    "\n",
    "  (SELECT \n",
    "    DISTINCT s.NUM_ACHAT, \n",
    "    SEGMENT\n",
    "  FROM \n",
    "    sales s \n",
    "  INNER JOIN  \n",
    "    produits p\n",
    "  ON \n",
    "    s.MCVT = p.MCVT\n",
    "  WHERE \n",
    "    p.SEGMENT = 'NIGHTWEAR'), \n",
    "    \n",
    "    \n",
    "others_order AS    \n",
    "  (SELECT \n",
    "      DISTINCT s.NUM_ACHAT, \n",
    "      SEGMENT\n",
    "    FROM \n",
    "      sales s \n",
    "    INNER JOIN  \n",
    "      produits p\n",
    "    ON \n",
    "      s.MCVT = p.MCVT\n",
    "    WHERE \n",
    "      p.SEGMENT <> 'NIGHTWEAR'),\n",
    "\n",
    "cross_selling_orders AS    \n",
    "  (SELECT \n",
    "    a.*, \n",
    "    b.SEGMENT AS cross_selling_segment\n",
    "  FROM \n",
    "    nightwear_order a  \n",
    "  INNER JOIN  \n",
    "    others_order b \n",
    "  ON a.NUM_ACHAT = b.NUM_ACHAT)    \n",
    "\n",
    "    \n",
    "SELECT \n",
    "  SEGMENT, \n",
    "  cross_selling_segment, \n",
    "  COUNT(NUM_ACHAT) AS frequency\n",
    "FROM \n",
    "  cross_selling_orders\n",
    "GROUP BY \n",
    "  1, 2\n",
    "ORDER BY 3 DESC;"
   ]
  },
  {
   "cell_type": "markdown",
   "id": "072f17d6",
   "metadata": {},
   "source": [
    "## Combien d’achats ne contenaient QUE du NIGHTWEAR ?"
   ]
  },
  {
   "cell_type": "code",
   "execution_count": 59,
   "id": "a2983936",
   "metadata": {},
   "outputs": [
    {
     "name": "stdout",
     "output_type": "stream",
     "text": [
      " * sqlite:///jupyter_sql.db\n",
      "Done.\n"
     ]
    },
    {
     "data": {
      "text/html": [
       "<table>\n",
       "    <thead>\n",
       "        <tr>\n",
       "            <th>only_nightwear_orders</th>\n",
       "        </tr>\n",
       "    </thead>\n",
       "    <tbody>\n",
       "        <tr>\n",
       "            <td>25460</td>\n",
       "        </tr>\n",
       "    </tbody>\n",
       "</table>"
      ],
      "text/plain": [
       "[(25460,)]"
      ]
     },
     "execution_count": 59,
     "metadata": {},
     "output_type": "execute_result"
    }
   ],
   "source": [
    "%%sql\n",
    "\n",
    "WITH nightwear_order AS    \n",
    "\n",
    "    (SELECT \n",
    "    DISTINCT s.NUM_ACHAT, \n",
    "    SEGMENT\n",
    "  FROM \n",
    "    sales s \n",
    "  INNER JOIN  \n",
    "    produits p\n",
    "  ON \n",
    "    s.MCVT = p.MCVT\n",
    "  WHERE \n",
    "    p.SEGMENT = 'NIGHTWEAR'), \n",
    "    \n",
    "    \n",
    "others_order AS    \n",
    "  (SELECT \n",
    "      DISTINCT s.NUM_ACHAT, \n",
    "      SEGMENT\n",
    "    FROM \n",
    "      sales s \n",
    "    INNER JOIN  \n",
    "      produits p\n",
    "    ON \n",
    "      s.MCVT = p.MCVT\n",
    "    WHERE \n",
    "      p.SEGMENT <> 'NIGHTWEAR')\n",
    "    \n",
    "\n",
    "SELECT \n",
    "    COUNT(*) AS only_nightwear_orders\n",
    "FROM \n",
    "    nightwear_order\n",
    "WHERE \n",
    "    NUM_ACHAT NOT IN (SELECT NUM_ACHAT FROM others_order)"
   ]
  },
  {
   "cell_type": "markdown",
   "id": "46d2ccc9",
   "metadata": {},
   "source": [
    "## 7. Quel est le panier moyen des clients ayant réalisé 1 achat en 2023 vs 2+ achats ?\n",
    "\n",
    "(Panier moyen = somme CA / total achats uniques)"
   ]
  },
  {
   "cell_type": "code",
   "execution_count": 71,
   "id": "b67cd245",
   "metadata": {},
   "outputs": [
    {
     "name": "stdout",
     "output_type": "stream",
     "text": [
      " * sqlite:///jupyter_sql.db\n",
      "Done.\n"
     ]
    },
    {
     "data": {
      "text/html": [
       "<table>\n",
       "    <thead>\n",
       "        <tr>\n",
       "            <th>label</th>\n",
       "            <th>panier_moyen</th>\n",
       "        </tr>\n",
       "    </thead>\n",
       "    <tbody>\n",
       "        <tr>\n",
       "            <td>1 achat</td>\n",
       "            <td>36.82</td>\n",
       "        </tr>\n",
       "        <tr>\n",
       "            <td>2+ achats</td>\n",
       "            <td>35.24</td>\n",
       "        </tr>\n",
       "    </tbody>\n",
       "</table>"
      ],
      "text/plain": [
       "[('1 achat', 36.82), ('2+ achats', 35.24)]"
      ]
     },
     "execution_count": 71,
     "metadata": {},
     "output_type": "execute_result"
    }
   ],
   "source": [
    "%%sql\n",
    "\n",
    "WITH sales_2023 AS \n",
    "(\n",
    "  SELECT \n",
    "    * \n",
    "  FROM \n",
    "    sales \n",
    "  WHERE \n",
    "    substr(DATE_ACHAT, 1, 4) = '2023'\n",
    "),\n",
    "nbr_achat_client AS   \n",
    "(\n",
    "  SELECT \n",
    "    RCUCRM, \n",
    "    COUNT(DISTINCT NUM_ACHAT) AS nbr_achat \n",
    "  FROM  \n",
    "    sales_2023\n",
    "  GROUP BY \n",
    "    RCUCRM\n",
    "), \n",
    "client_label AS    \n",
    "(\n",
    "  SELECT \n",
    "    RCUCRM, \n",
    "    nbr_achat,\n",
    "    CASE WHEN nbr_achat = 1 THEN '1 achat' ELSE '2+ achats' END AS label \n",
    "  FROM   \n",
    "    nbr_achat_client\n",
    ")\n",
    "\n",
    "SELECT \n",
    "  label, \n",
    "  ROUND(SUM(a.CATTC) / COUNT(DISTINCT a.NUM_ACHAT), 2) AS panier_moyen\n",
    "FROM \n",
    "  sales_2023 a\n",
    "INNER JOIN  \n",
    "  client_label b\n",
    "ON \n",
    "  a.RCUCRM = b.RCUCRM\n",
    "GROUP BY \n",
    "  label\n",
    "ORDER BY \n",
    "  label ASC;\n"
   ]
  }
 ],
 "metadata": {
  "kernelspec": {
   "display_name": "Python 3 (ipykernel)",
   "language": "python",
   "name": "python3"
  },
  "language_info": {
   "codemirror_mode": {
    "name": "ipython",
    "version": 3
   },
   "file_extension": ".py",
   "mimetype": "text/x-python",
   "name": "python",
   "nbconvert_exporter": "python",
   "pygments_lexer": "ipython3",
   "version": "3.9.13"
  }
 },
 "nbformat": 4,
 "nbformat_minor": 5
}
